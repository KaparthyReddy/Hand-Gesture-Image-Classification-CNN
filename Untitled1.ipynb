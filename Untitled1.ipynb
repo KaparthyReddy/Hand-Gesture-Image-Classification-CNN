{
  "nbformat": 4,
  "nbformat_minor": 0,
  "metadata": {
    "colab": {
      "provenance": [],
      "authorship_tag": "ABX9TyMKpqLkG/nANiuctTY7mQkf",
      "include_colab_link": true
    },
    "kernelspec": {
      "name": "python3",
      "display_name": "Python 3"
    },
    "language_info": {
      "name": "python"
    }
  },
  "cells": [
    {
      "cell_type": "markdown",
      "metadata": {
        "id": "view-in-github",
        "colab_type": "text"
      },
      "source": [
        "<a href=\"https://colab.research.google.com/github/g-anupam/Hand-Gesture-Prediction/blob/main/Untitled1.ipynb\" target=\"_parent\"><img src=\"https://colab.research.google.com/assets/colab-badge.svg\" alt=\"Open In Colab\"/></a>"
      ]
    },
    {
      "cell_type": "code",
      "source": [
        "!pip install opencv-python-headless\n",
        "\n"
      ],
      "metadata": {
        "colab": {
          "base_uri": "https://localhost:8080/"
        },
        "id": "mkdO7qThV-dA",
        "outputId": "1dd131f5-9b10-4fdf-8e50-2527782d14c0"
      },
      "execution_count": 93,
      "outputs": [
        {
          "output_type": "stream",
          "name": "stdout",
          "text": [
            "Requirement already satisfied: opencv-python-headless in /usr/local/lib/python3.10/dist-packages (4.9.0.80)\n",
            "Requirement already satisfied: numpy>=1.21.2 in /usr/local/lib/python3.10/dist-packages (from opencv-python-headless) (1.25.2)\n"
          ]
        }
      ]
    },
    {
      "cell_type": "markdown",
      "source": [
        "## importing needed libraries"
      ],
      "metadata": {
        "id": "FzJiAfKHiMl5"
      }
    },
    {
      "cell_type": "code",
      "source": [
        "import numpy as np\n",
        "import matplotlib.pyplot as plt\n",
        "from tensorflow.keras.models import Sequential\n",
        "from tensorflow.keras.layers import Flatten, Dense, Conv2D, MaxPooling2D\n",
        "import cv2\n"
      ],
      "metadata": {
        "id": "XQV79e19WYIJ"
      },
      "execution_count": 94,
      "outputs": []
    },
    {
      "cell_type": "code",
      "source": [
        "Xdataset=np.load('X.npy')\n",
        "print(Xdataset)\n",
        "print(\"size:\",Xdataset.size)\n",
        "\n",
        "import matplotlib.pyplot as plt\n",
        "x1=Xdataset[800]\n",
        "# Display the grayscale image\n",
        "# Read the image\n",
        "\n",
        "plt.imshow(x1,cmap='gray')\n",
        "plt.axis(\"off\")\n",
        "plt.show()\n",
        "Ydataset=np.load('Y.npy')\n",
        "print(Ydataset[800])\n",
        "print(\"ysize:\",Ydataset.size)"
      ],
      "metadata": {
        "colab": {
          "base_uri": "https://localhost:8080/",
          "height": 1000
        },
        "id": "XIuxlU9dYQk2",
        "outputId": "a30f7d6c-95a2-4422-efd7-a415754aeff1"
      },
      "execution_count": 95,
      "outputs": [
        {
          "output_type": "stream",
          "name": "stdout",
          "text": [
            "[[[0.46666667 0.4745098  0.47843137 ... 0.5176471  0.5137255  0.5019608 ]\n",
            "  [0.49803922 0.4862745  0.4862745  ... 0.5254902  0.5176471  0.50980395]\n",
            "  [0.54509807 0.49411765 0.49019608 ... 0.5294118  0.5254902  0.5137255 ]\n",
            "  ...\n",
            "  [0.5019608  0.5137255  0.5176471  ... 0.5529412  0.54509807 0.53333336]\n",
            "  [0.49803922 0.5058824  0.5137255  ... 0.54509807 0.53333336 0.52156866]\n",
            "  [0.49019608 0.49803922 0.5019608  ... 0.5294118  0.52156866 0.50980395]]\n",
            "\n",
            " [[0.59607846 0.60784316 0.61960787 ... 0.4627451  0.4509804  0.44313726]\n",
            "  [0.60784316 0.61960787 0.6313726  ... 0.4745098  0.4627451  0.4509804 ]\n",
            "  [0.6156863  0.627451   0.6431373  ... 0.4862745  0.4745098  0.4627451 ]\n",
            "  ...\n",
            "  [0.50980395 0.5176471  0.5254902  ... 0.40392157 0.39607844 0.3882353 ]\n",
            "  [0.5019608  0.50980395 0.5176471  ... 0.4        0.39215687 0.38431373]\n",
            "  [0.49411765 0.5058824  0.50980395 ... 0.3882353  0.38039216 0.37254903]]\n",
            "\n",
            " [[0.5882353  0.6039216  0.61960787 ... 0.53333336 0.5137255  0.5019608 ]\n",
            "  [0.5921569  0.6117647  0.6156863  ... 0.5411765  0.52156866 0.50980395]\n",
            "  [0.5882353  0.61960787 0.627451   ... 0.54901963 0.5294118  0.5137255 ]\n",
            "  ...\n",
            "  [0.4745098  0.4862745  0.49411765 ... 0.42745098 0.41960785 0.40784314]\n",
            "  [0.47058824 0.47843137 0.4862745  ... 0.41568628 0.4117647  0.4       ]\n",
            "  [0.45882353 0.47058824 0.47843137 ... 0.40392157 0.4        0.3882353 ]]\n",
            "\n",
            " ...\n",
            "\n",
            " [[0.5254902  0.54509807 0.5568628  ... 0.49803922 0.49019608 0.4862745 ]\n",
            "  [0.5372549  0.5529412  0.5686275  ... 0.5019608  0.49803922 0.49019608]\n",
            "  [0.54509807 0.5568628  0.57254905 ... 0.5058824  0.49803922 0.49019608]\n",
            "  ...\n",
            "  [0.5058824  0.50980395 0.5137255  ... 0.4862745  0.47843137 0.47058824]\n",
            "  [0.49411765 0.5058824  0.50980395 ... 0.47843137 0.47058824 0.4627451 ]\n",
            "  [0.48235294 0.49411765 0.5058824  ... 0.47058824 0.4627451  0.45490196]]\n",
            "\n",
            " [[0.5137255  0.5254902  0.5372549  ... 0.45490196 0.44705883 0.43529412]\n",
            "  [0.5176471  0.53333336 0.54901963 ... 0.46666667 0.45882353 0.44705883]\n",
            "  [0.5254902  0.5411765  0.56078434 ... 0.4745098  0.4627451  0.4509804 ]\n",
            "  ...\n",
            "  [0.53333336 0.5411765  0.5529412  ... 0.54509807 0.5372549  0.5294118 ]\n",
            "  [0.52156866 0.53333336 0.54509807 ... 0.5372549  0.5294118  0.52156866]\n",
            "  [0.5137255  0.5254902  0.5372549  ... 0.5294118  0.5254902  0.5137255 ]]\n",
            "\n",
            " [[0.92941177 0.9372549  0.9372549  ... 0.9647059  0.972549   0.972549  ]\n",
            "  [0.92941177 0.93333334 0.93333334 ... 0.95686275 0.9607843  0.9647059 ]\n",
            "  [0.93333334 0.93333334 0.93333334 ... 0.9490196  0.9490196  0.9529412 ]\n",
            "  ...\n",
            "  [0.76862746 0.76862746 0.77254903 ... 0.73333335 0.74509805 0.68235296]\n",
            "  [0.7647059  0.7647059  0.76862746 ... 0.7254902  0.7372549  0.6784314 ]\n",
            "  [0.75686276 0.75686276 0.7607843  ... 0.72156864 0.73333335 0.67058825]]]\n",
            "size: 8445952\n"
          ]
        },
        {
          "output_type": "display_data",
          "data": {
            "text/plain": [
              "<Figure size 640x480 with 1 Axes>"
            ],
            "image/png": "[encoded data removed]"
          },
          "metadata": {}
        },
        {
          "output_type": "stream",
          "name": "stdout",
          "text": [
            "[0. 0. 0. 1. 0. 0. 0. 0. 0. 0.]\n",
            "ysize: 20620\n"
          ]
        }
      ]
    },
    {
      "cell_type": "markdown",
      "source": [
        "## preprocessing our dataset"
      ],
      "metadata": {
        "id": "O6hYSM0kwfGd"
      }
    },
    {
      "cell_type": "code",
      "source": [
        "Xdataset2 = Xdataset.reshape(Xdataset.shape[0],64,64, 1)\n",
        "Xdataset2 = Xdataset2.astype('float32') / 255 # scaling and normalization\n",
        "print(Xdataset2[0][0])"
      ],
      "metadata": {
        "id": "7mlYHxVEiLiP",
        "colab": {
          "base_uri": "https://localhost:8080/"
        },
        "outputId": "0b10a8a5-4453-44ca-f57f-adfd24b731b3"
      },
      "execution_count": 96,
      "outputs": [
        {
          "output_type": "stream",
          "name": "stdout",
          "text": [
            "[[0.00183007]\n",
            " [0.00186082]\n",
            " [0.0018762 ]\n",
            " [0.00189158]\n",
            " [0.00190696]\n",
            " [0.00192234]\n",
            " [0.00193772]\n",
            " [0.00193772]\n",
            " [0.00198385]\n",
            " [0.00201461]\n",
            " [0.00206075]\n",
            " [0.00210688]\n",
            " [0.00215302]\n",
            " [0.00221453]\n",
            " [0.00229143]\n",
            " [0.00235294]\n",
            " [0.00241446]\n",
            " [0.00247597]\n",
            " [0.00255286]\n",
            " [0.00261438]\n",
            " [0.00266052]\n",
            " [0.00270665]\n",
            " [0.00273741]\n",
            " [0.00279892]\n",
            " [0.00284506]\n",
            " [0.00286044]\n",
            " [0.00290657]\n",
            " [0.00293733]\n",
            " [0.00293733]\n",
            " [0.00295271]\n",
            " [0.00293733]\n",
            " [0.00293733]\n",
            " [0.00293733]\n",
            " [0.00292195]\n",
            " [0.00290657]\n",
            " [0.00287582]\n",
            " [0.00284506]\n",
            " [0.00282968]\n",
            " [0.00279892]\n",
            " [0.00276817]\n",
            " [0.00272203]\n",
            " [0.00269127]\n",
            " [0.00264514]\n",
            " [0.002599  ]\n",
            " [0.00255286]\n",
            " [0.00250673]\n",
            " [0.00247597]\n",
            " [0.00244521]\n",
            " [0.00244521]\n",
            " [0.00241446]\n",
            " [0.0023837 ]\n",
            " [0.00233756]\n",
            " [0.00230681]\n",
            " [0.00226067]\n",
            " [0.00221453]\n",
            " [0.00218378]\n",
            " [0.00213764]\n",
            " [0.00212226]\n",
            " [0.00210688]\n",
            " [0.0020915 ]\n",
            " [0.00204537]\n",
            " [0.00202999]\n",
            " [0.00201461]\n",
            " [0.00196847]]\n"
          ]
        }
      ]
    },
    {
      "cell_type": "code",
      "source": [
        "from sklearn.model_selection import train_test_split\n",
        "X_train, X_test, y_train, y_test = train_test_split(Xdataset, Ydataset , test_size = 0.25, random_state = 0)"
      ],
      "metadata": {
        "id": "HzHUeccKxfqC"
      },
      "execution_count": 97,
      "outputs": []
    },
    {
      "cell_type": "code",
      "source": [
        "model = Sequential()\n",
        "model.add(Conv2D(32, kernel_size=(3, 3), activation='relu', input_shape=(64,64, 1)))\n",
        "model.add(MaxPooling2D(pool_size=(2, 2)))\n",
        "model.add(Conv2D(64, kernel_size=(3, 3), activation='relu'))\n",
        "model.add(MaxPooling2D(pool_size=(2, 2)))\n",
        "model.add(Flatten())\n",
        "model.add(Dense(128, activation='relu'))\n",
        "model.add(Dense(10, activation='softmax'))"
      ],
      "metadata": {
        "id": "92lfQ6NRwo-8"
      },
      "execution_count": 98,
      "outputs": []
    },
    {
      "cell_type": "code",
      "source": [
        "model.compile(loss='categorical_crossentropy', optimizer='adam', metrics=['accuracy'])"
      ],
      "metadata": {
        "id": "rtNLXrYowox1"
      },
      "execution_count": 99,
      "outputs": []
    },
    {
      "cell_type": "code",
      "source": [
        "model.fit(X_train, y_train, epochs=8, batch_size=20, validation_data=(X_test, y_test))"
      ],
      "metadata": {
        "colab": {
          "base_uri": "https://localhost:8080/"
        },
        "id": "2LAMtJQuwodG",
        "outputId": "6fc4b57a-6c55-4baa-ba40-8028ab95751a"
      },
      "execution_count": 106,
      "outputs": [
        {
          "output_type": "stream",
          "name": "stdout",
          "text": [
            "Epoch 1/8\n",
            "78/78 [==============================] - 10s 135ms/step - loss: 8.1464e-04 - accuracy: 1.0000 - val_loss: 0.9158 - val_accuracy: 0.8643\n",
            "Epoch 2/8\n",
            "78/78 [==============================] - 10s 124ms/step - loss: 7.6618e-04 - accuracy: 1.0000 - val_loss: 0.9198 - val_accuracy: 0.8624\n",
            "Epoch 3/8\n",
            "78/78 [==============================] - 9s 119ms/step - loss: 7.0354e-04 - accuracy: 1.0000 - val_loss: 0.9245 - val_accuracy: 0.8624\n",
            "Epoch 4/8\n",
            "78/78 [==============================] - 9s 121ms/step - loss: 6.6546e-04 - accuracy: 1.0000 - val_loss: 0.9294 - val_accuracy: 0.8663\n",
            "Epoch 5/8\n",
            "78/78 [==============================] - 10s 134ms/step - loss: 6.1587e-04 - accuracy: 1.0000 - val_loss: 0.9375 - val_accuracy: 0.8702\n",
            "Epoch 6/8\n",
            "78/78 [==============================] - 10s 125ms/step - loss: 5.8453e-04 - accuracy: 1.0000 - val_loss: 0.9408 - val_accuracy: 0.8624\n",
            "Epoch 7/8\n",
            "78/78 [==============================] - 9s 119ms/step - loss: 5.4179e-04 - accuracy: 1.0000 - val_loss: 0.9448 - val_accuracy: 0.8643\n",
            "Epoch 8/8\n",
            "78/78 [==============================] - 10s 127ms/step - loss: 5.0372e-04 - accuracy: 1.0000 - val_loss: 0.9516 - val_accuracy: 0.8643\n"
          ]
        },
        {
          "output_type": "execute_result",
          "data": {
            "text/plain": [
              "<keras.src.callbacks.History at 0x793df56573d0>"
            ]
          },
          "metadata": {},
          "execution_count": 106
        }
      ]
    },
    {
      "cell_type": "code",
      "source": [
        "score = model.evaluate(X_test, y_test, verbose=0)\n",
        "print('Test loss:', score[0])\n",
        "print('Test accuracy:', score[1])"
      ],
      "metadata": {
        "colab": {
          "base_uri": "https://localhost:8080/"
        },
        "id": "12syvx1Vyq8U",
        "outputId": "7d7e5988-c5aa-4050-f05a-ef15f29ef836"
      },
      "execution_count": 107,
      "outputs": [
        {
          "output_type": "stream",
          "name": "stdout",
          "text": [
            "Test loss: 0.9516117572784424\n",
            "Test accuracy: 0.8643410801887512\n"
          ]
        }
      ]
    }
  ]
}